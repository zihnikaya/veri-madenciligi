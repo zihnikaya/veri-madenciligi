{
  "nbformat": 4,
  "nbformat_minor": 0,
  "metadata": {
    "colab": {
      "provenance": [],
      "authorship_tag": "ABX9TyOnDecUaNxRCWjY18bFdDZg",
      "include_colab_link": true
    },
    "kernelspec": {
      "name": "python3",
      "display_name": "Python 3"
    },
    "language_info": {
      "name": "python"
    }
  },
  "cells": [
    {
      "cell_type": "markdown",
      "metadata": {
        "id": "view-in-github",
        "colab_type": "text"
      },
      "source": [
        "<a href=\"https://colab.research.google.com/github/zihnikaya/veri-madenciligi/blob/main/aykiri_veriler.ipynb\" target=\"_parent\"><img src=\"https://colab.research.google.com/assets/colab-badge.svg\" alt=\"Open In Colab\"/></a>"
      ]
    },
    {
      "cell_type": "code",
      "execution_count": 5,
      "metadata": {
        "id": "ySs-0TUx69Rh"
      },
      "outputs": [],
      "source": [
        "import numpy as np\n",
        "import pandas as pd\n",
        "import matplotlib.pyplot as plt\n",
        "\n",
        "veri_seti = pd.read_csv(\"https://raw.githubusercontent.com/zihnikaya/veri-madenciligi/main/titanic.csv\")"
      ]
    },
    {
      "cell_type": "code",
      "source": [
        "yas_dolu_veri_seti= veri_seti.Age.fillna(value=veri_seti.Age.mean())"
      ],
      "metadata": {
        "id": "tBIJhqPI7Wz3"
      },
      "execution_count": 6,
      "outputs": []
    },
    {
      "cell_type": "code",
      "source": [
        "yas_dolu_veri_seti.describe()"
      ],
      "metadata": {
        "colab": {
          "base_uri": "https://localhost:8080/"
        },
        "id": "xNu2CrqN7vKj",
        "outputId": "fba4ec5a-9a9e-4461-f868-ac615d067052"
      },
      "execution_count": 7,
      "outputs": [
        {
          "output_type": "execute_result",
          "data": {
            "text/plain": [
              "count    891.000000\n",
              "mean      29.699118\n",
              "std       13.002015\n",
              "min        0.420000\n",
              "25%       22.000000\n",
              "50%       29.699118\n",
              "75%       35.000000\n",
              "max       80.000000\n",
              "Name: Age, dtype: float64"
            ]
          },
          "metadata": {},
          "execution_count": 7
        }
      ]
    },
    {
      "cell_type": "code",
      "source": [
        "yas_dolu_veri_seti.plot.box()"
      ],
      "metadata": {
        "colab": {
          "base_uri": "https://localhost:8080/",
          "height": 447
        },
        "id": "3D4Bz8bO70yD",
        "outputId": "a0f22b83-4d41-49ec-9314-04456a1f552f"
      },
      "execution_count": 8,
      "outputs": [
        {
          "output_type": "execute_result",
          "data": {
            "text/plain": [
              "<Axes: >"
            ]
          },
          "metadata": {},
          "execution_count": 8
        },
        {
          "output_type": "display_data",
          "data": {
            "text/plain": [
              "<Figure size 640x480 with 1 Axes>"
            ],
            "image/png": "[encoded data removed]"
          },
          "metadata": {}
        }
      ]
    },
    {
      "cell_type": "code",
      "source": [
        "Q1 = yas_dolu_veri_seti.quantile(0.25)\n",
        "Q3 = yas_dolu_veri_seti.quantile(0.75)\n",
        "IQR = Q3-Q1\n",
        "print(\"Q1: {}, Q3: {}, IQR: {}\".format(Q1, Q3, IQR))"
      ],
      "metadata": {
        "colab": {
          "base_uri": "https://localhost:8080/"
        },
        "id": "dhYZlPp88M7i",
        "outputId": "cbd50831-a9e9-4d2f-e1a2-85e63b2e7635"
      },
      "execution_count": 11,
      "outputs": [
        {
          "output_type": "stream",
          "name": "stdout",
          "text": [
            "Q1: 22.0, Q3: 35.0, IQR: 13.0\n"
          ]
        }
      ]
    },
    {
      "cell_type": "code",
      "source": [
        "alt_sinir = Q1-(IQR*1.5)\n",
        "ust_sinir = Q3+(IQR*1.5)\n",
        "print(alt_sinir)\n",
        "print(ust_sinir)"
      ],
      "metadata": {
        "colab": {
          "base_uri": "https://localhost:8080/"
        },
        "id": "GbjyW6uq8Pxi",
        "outputId": "73fd27fe-5b54-485d-fe97-a091207687b2"
      },
      "execution_count": 12,
      "outputs": [
        {
          "output_type": "stream",
          "name": "stdout",
          "text": [
            "2.5\n",
            "54.5\n"
          ]
        }
      ]
    },
    {
      "cell_type": "code",
      "source": [
        "yas_dolu_veri_seti[yas_dolu_veri_seti<alt_sinir]"
      ],
      "metadata": {
        "colab": {
          "base_uri": "https://localhost:8080/"
        },
        "id": "uc86Nn-08UOr",
        "outputId": "400f6f4d-b255-4139-daf1-bc1f233c2b66"
      },
      "execution_count": 13,
      "outputs": [
        {
          "output_type": "execute_result",
          "data": {
            "text/plain": [
              "7      2.00\n",
              "16     2.00\n",
              "78     0.83\n",
              "119    2.00\n",
              "164    1.00\n",
              "172    1.00\n",
              "183    1.00\n",
              "205    2.00\n",
              "297    2.00\n",
              "305    0.92\n",
              "340    2.00\n",
              "381    1.00\n",
              "386    1.00\n",
              "469    0.75\n",
              "479    2.00\n",
              "530    2.00\n",
              "642    2.00\n",
              "644    0.75\n",
              "755    0.67\n",
              "788    1.00\n",
              "803    0.42\n",
              "824    2.00\n",
              "827    1.00\n",
              "831    0.83\n",
              "Name: Age, dtype: float64"
            ]
          },
          "metadata": {},
          "execution_count": 13
        }
      ]
    },
    {
      "cell_type": "code",
      "source": [
        "yas_dolu_veri_seti[yas_dolu_veri_seti>ust_sinir]"
      ],
      "metadata": {
        "colab": {
          "base_uri": "https://localhost:8080/"
        },
        "id": "6EYjkEcY8Wvk",
        "outputId": "6b6fee73-1d1a-4ca0-8386-04afb9a3bbc6"
      },
      "execution_count": 14,
      "outputs": [
        {
          "output_type": "execute_result",
          "data": {
            "text/plain": [
              "11     58.0\n",
              "15     55.0\n",
              "33     66.0\n",
              "54     65.0\n",
              "94     59.0\n",
              "96     71.0\n",
              "116    70.5\n",
              "152    55.5\n",
              "170    61.0\n",
              "174    56.0\n",
              "195    58.0\n",
              "232    59.0\n",
              "252    62.0\n",
              "268    58.0\n",
              "275    63.0\n",
              "280    65.0\n",
              "326    61.0\n",
              "366    60.0\n",
              "438    64.0\n",
              "456    65.0\n",
              "467    56.0\n",
              "483    63.0\n",
              "487    58.0\n",
              "492    55.0\n",
              "493    71.0\n",
              "545    64.0\n",
              "555    62.0\n",
              "570    62.0\n",
              "587    60.0\n",
              "625    61.0\n",
              "626    57.0\n",
              "630    80.0\n",
              "647    56.0\n",
              "659    58.0\n",
              "672    70.0\n",
              "684    60.0\n",
              "694    60.0\n",
              "745    70.0\n",
              "772    57.0\n",
              "829    62.0\n",
              "851    74.0\n",
              "879    56.0\n",
              "Name: Age, dtype: float64"
            ]
          },
          "metadata": {},
          "execution_count": 14
        }
      ]
    },
    {
      "cell_type": "code",
      "source": [
        "yas_dolu_veri_seti[yas_dolu_veri_seti<alt_sinir] = alt_sinir\n",
        "yas_dolu_veri_seti[yas_dolu_veri_seti>ust_sinir] = ust_sinir\n",
        "yas_dolu_veri_seti.describe()"
      ],
      "metadata": {
        "colab": {
          "base_uri": "https://localhost:8080/"
        },
        "id": "58lR6LE38Yz5",
        "outputId": "d46df6c5-8b84-4c7a-8a5e-9b7bf5135a88"
      },
      "execution_count": 15,
      "outputs": [
        {
          "output_type": "execute_result",
          "data": {
            "text/plain": [
              "count    891.000000\n",
              "mean      29.376817\n",
              "std       12.062035\n",
              "min        2.500000\n",
              "25%       22.000000\n",
              "50%       29.699118\n",
              "75%       35.000000\n",
              "max       54.500000\n",
              "Name: Age, dtype: float64"
            ]
          },
          "metadata": {},
          "execution_count": 15
        }
      ]
    },
    {
      "cell_type": "code",
      "source": [
        "yas_dolu_veri_seti.plot.box()"
      ],
      "metadata": {
        "colab": {
          "base_uri": "https://localhost:8080/",
          "height": 447
        },
        "id": "vgIRlpej8blb",
        "outputId": "ee59fcdc-b2dd-4d8e-8f63-583ac466a199"
      },
      "execution_count": 16,
      "outputs": [
        {
          "output_type": "execute_result",
          "data": {
            "text/plain": [
              "<Axes: >"
            ]
          },
          "metadata": {},
          "execution_count": 16
        },
        {
          "output_type": "display_data",
          "data": {
            "text/plain": [
              "<Figure size 640x480 with 1 Axes>"
            ],
            "image/png": "[encoded data removed]"
          },
          "metadata": {}
        }
      ]
    },
    {
      "cell_type": "code",
      "source": [
        "yas_dolu_veri_seti[yas_dolu_veri_seti<yas_dolu_veri_seti.std()*3].plot.box()"
      ],
      "metadata": {
        "colab": {
          "base_uri": "https://localhost:8080/",
          "height": 447
        },
        "id": "9NjcHmi48eCW",
        "outputId": "368981aa-86f7-4eb8-cc91-b4b7a14afcc3"
      },
      "execution_count": 17,
      "outputs": [
        {
          "output_type": "execute_result",
          "data": {
            "text/plain": [
              "<Axes: >"
            ]
          },
          "metadata": {},
          "execution_count": 17
        },
        {
          "output_type": "display_data",
          "data": {
            "text/plain": [
              "<Figure size 640x480 with 1 Axes>"
            ],
            "image/png": "[encoded data removed]"
          },
          "metadata": {}
        }
      ]
    },
    {
      "cell_type": "code",
      "source": [
        "yas_dolu_veri_seti[(yas_dolu_veri_seti>yas_dolu_veri_seti.std()*-3)].plot.box()"
      ],
      "metadata": {
        "colab": {
          "base_uri": "https://localhost:8080/",
          "height": 447
        },
        "id": "jQqSxLVu8gWK",
        "outputId": "8ccfedeb-db35-4c0d-ce03-c9aa7437636a"
      },
      "execution_count": 18,
      "outputs": [
        {
          "output_type": "execute_result",
          "data": {
            "text/plain": [
              "<Axes: >"
            ]
          },
          "metadata": {},
          "execution_count": 18
        },
        {
          "output_type": "display_data",
          "data": {
            "text/plain": [
              "<Figure size 640x480 with 1 Axes>"
            ],
            "image/png": "[encoded data removed]"
          },
          "metadata": {}
        }
      ]
    }
  ]
}